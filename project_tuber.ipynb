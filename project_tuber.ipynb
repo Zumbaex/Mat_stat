{
 "cells": [
  {
   "attachments": {},
   "cell_type": "markdown",
   "metadata": {},
   "source": [
    "### Сравнение заболеваемости мужчин и женщин активной формой туберкулеза с 18 до 34 лет в период с 2005 по 2020 год"
   ]
  },
  {
   "cell_type": "code",
   "execution_count": 2,
   "metadata": {},
   "outputs": [],
   "source": [
    "import numpy as np"
   ]
  },
  {
   "cell_type": "code",
   "execution_count": 1,
   "metadata": {},
   "outputs": [],
   "source": [
    "n1 = 6 #мужчины\n",
    "n2 = 6 #женщины\n",
    "n = n1 + n2\n",
    "k = 2\n",
    "alpha = 0.05"
   ]
  },
  {
   "cell_type": "code",
   "execution_count": 3,
   "metadata": {},
   "outputs": [],
   "source": [
    "y1 = np.array([31452, 30643, 19522, 12646, 10928, 8032])\n",
    "y2 = np.array([14311, 14900, 10529, 7065, 6076, 4504])"
   ]
  },
  {
   "cell_type": "code",
   "execution_count": 4,
   "metadata": {},
   "outputs": [
    {
     "name": "stdout",
     "output_type": "stream",
     "text": [
      "18870.5\n"
     ]
    }
   ],
   "source": [
    "y1_mean = np.mean(y1)\n",
    "print(round(y1_mean, 2))"
   ]
  },
  {
   "cell_type": "code",
   "execution_count": 5,
   "metadata": {},
   "outputs": [
    {
     "name": "stdout",
     "output_type": "stream",
     "text": [
      "9564.17\n"
     ]
    }
   ],
   "source": [
    "y2_mean = np.mean(y2)\n",
    "print(round(y2_mean, 2))"
   ]
  },
  {
   "cell_type": "code",
   "execution_count": 7,
   "metadata": {},
   "outputs": [
    {
     "name": "stdout",
     "output_type": "stream",
     "text": [
      "[31452 30643 19522 12646 10928  8032 14311 14900 10529  7065  6076  4504]\n"
     ]
    }
   ],
   "source": [
    "y_all = np.concatenate([y1, y2])\n",
    "print(y_all)"
   ]
  },
  {
   "cell_type": "code",
   "execution_count": 9,
   "metadata": {},
   "outputs": [
    {
     "name": "stdout",
     "output_type": "stream",
     "text": [
      "14217.33\n"
     ]
    }
   ],
   "source": [
    "y_mean = np.mean(y_all)\n",
    "print(round(y_mean, 2))"
   ]
  },
  {
   "cell_type": "code",
   "execution_count": 11,
   "metadata": {},
   "outputs": [
    {
     "name": "stdout",
     "output_type": "stream",
     "text": [
      "872387534.6666664\n"
     ]
    }
   ],
   "source": [
    "# Найдем S2 - сумма квадратов от общего среднего\n",
    "s2 = np.sum((y_all - y_mean)**2)\n",
    "print(s2)"
   ]
  },
  {
   "cell_type": "code",
   "execution_count": 10,
   "metadata": {},
   "outputs": [
    {
     "name": "stdout",
     "output_type": "stream",
     "text": [
      "259823520.33333334\n"
     ]
    }
   ],
   "source": [
    "# Найдем S2F - сумма квадратов от групповых средних\n",
    "s2_f = ((y1_mean - y_mean)**2) * n1 + ((y2_mean - y_mean)**2) * n2\n",
    "print(s2_f)"
   ]
  },
  {
   "cell_type": "code",
   "execution_count": 12,
   "metadata": {},
   "outputs": [
    {
     "name": "stdout",
     "output_type": "stream",
     "text": [
      "612564014.333333\n"
     ]
    }
   ],
   "source": [
    "# Найдем S2ост - остаточная сумма квадратов\n",
    "s2_res = s2 - s2_f\n",
    "print(s2_res)"
   ]
  },
  {
   "cell_type": "code",
   "execution_count": 13,
   "metadata": {},
   "outputs": [
    {
     "data": {
      "text/plain": [
       "79307957.69696967"
      ]
     },
     "execution_count": 13,
     "metadata": {},
     "output_type": "execute_result"
    }
   ],
   "source": [
    "# Найдем общую дисперсию \n",
    "sigma2_general = s2 / (n - 1)\n",
    "sigma2_general"
   ]
  },
  {
   "cell_type": "code",
   "execution_count": 14,
   "metadata": {},
   "outputs": [
    {
     "data": {
      "text/plain": [
       "259823520.33333334"
      ]
     },
     "execution_count": 14,
     "metadata": {},
     "output_type": "execute_result"
    }
   ],
   "source": [
    "# Найдем факторную дисперсию\n",
    "sigma2_f = s2_f / (k - 1)\n",
    "sigma2_f"
   ]
  },
  {
   "cell_type": "code",
   "execution_count": 15,
   "metadata": {},
   "outputs": [
    {
     "data": {
      "text/plain": [
       "61256401.4333333"
      ]
     },
     "execution_count": 15,
     "metadata": {},
     "output_type": "execute_result"
    }
   ],
   "source": [
    "# Найдем остаточную дисперсию\n",
    "sigma2_res = s2_res / (n - k)\n",
    "sigma2_res"
   ]
  },
  {
   "cell_type": "code",
   "execution_count": 16,
   "metadata": {},
   "outputs": [
    {
     "name": "stdout",
     "output_type": "stream",
     "text": [
      "4.24\n"
     ]
    }
   ],
   "source": [
    "# Найдем Fh рассчетное\n",
    "F_h = sigma2_f / sigma2_res\n",
    "print(round(F_h, 2))"
   ]
  },
  {
   "cell_type": "code",
   "execution_count": 18,
   "metadata": {},
   "outputs": [
    {
     "name": "stdout",
     "output_type": "stream",
     "text": [
      "V1 = 1, V2 = 10\n"
     ]
    }
   ],
   "source": [
    "# Найдем Fкрит табличное \n",
    "V1 = k - 1\n",
    "V2 = n - k\n",
    "print (f'V1 = {V1}, V2 = {V2}')\n",
    "F_k = 4.96\n",
    "# Fh < Fкрит => при данном уровне значимости (0.05) различие заболеваемости в двух группах \n",
    "#  статистически не значимо"
   ]
  },
  {
   "cell_type": "code",
   "execution_count": 19,
   "metadata": {},
   "outputs": [
    {
     "data": {
      "text/plain": [
       "0.2978303907478575"
      ]
     },
     "execution_count": 19,
     "metadata": {},
     "output_type": "execute_result"
    }
   ],
   "source": [
    "# Также вычислим эмпирическое корреляционное отношение\n",
    "eta2 = s2_f / s2\n",
    "eta2\n",
    "# Значение Эты < 0.3 => различие заболеваемости является статистически не значимым"
   ]
  }
 ],
 "metadata": {
  "kernelspec": {
   "display_name": "Python 3",
   "language": "python",
   "name": "python3"
  },
  "language_info": {
   "codemirror_mode": {
    "name": "ipython",
    "version": 3
   },
   "file_extension": ".py",
   "mimetype": "text/x-python",
   "name": "python",
   "nbconvert_exporter": "python",
   "pygments_lexer": "ipython3",
   "version": "3.11.1"
  },
  "orig_nbformat": 4,
  "vscode": {
   "interpreter": {
    "hash": "5ef1f6120c57419e99604dba36d4d0415303b3ec524f55c3dcecdbdfc8b92be6"
   }
  }
 },
 "nbformat": 4,
 "nbformat_minor": 2
}
